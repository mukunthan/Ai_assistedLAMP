{
 "cells": [
  {
   "cell_type": "code",
   "execution_count": 4,
   "metadata": {},
   "outputs": [],
   "source": [
    "import glob,os\n",
    "import sys\n",
    "import numpy as np\n",
    "import cv2\n",
    "from skimage.color import rgb2yuv,rgb2ycbcr\n",
    "from local_mmt import matchTemplates,drawBoxesOnRGB\n",
    "import tensorflow as tf\n",
    "import keras as k\n",
    "import matplotlib.pyplot as plt\n",
    "from keras.preprocessing.image import ImageDataGenerator"
   ]
  },
  {
   "cell_type": "code",
   "execution_count": 5,
   "metadata": {},
   "outputs": [],
   "source": [
    "def get_boxes(path):\n",
    "    image_rg = cv2.imread(path)\n",
    "    image_rgb = cv2.cvtColor(image_rg, cv2.COLOR_BGR2RGB)\n",
    "\n",
    "    image_t = cv2.imread('templete_pt4.png')\n",
    "    templete = image_t#[1450:1600,2250:2390]\n",
    "    \n",
    "    templete_rgb = cv2.cvtColor(templete, cv2.COLOR_BGR2RGB)\n",
    "    listTemplate = [('temp', templete_rgb)]\n",
    "    tubes = matchTemplates(listTemplate, image_rgb, N_object=8,score_threshold=0.2, method=cv2.TM_CCOEFF_NORMED, maxOverlap=0.0)\n",
    "    print(tubes)\n",
    "    Overlay = drawBoxesOnRGB(image_rgb, tubes, boxThickness=5)\n",
    "    plt.figure(figsize = (10,10))\n",
    "    # plt.axis(\"off\")\n",
    "    plt.imshow(Overlay)\n",
    "    return sorted(tubes)"
   ]
  },
  {
   "cell_type": "code",
   "execution_count": 6,
   "metadata": {},
   "outputs": [],
   "source": [
    "def get_dir(directory):\n",
    "    img_path = []\n",
    "    img_names = []\n",
    "    for path,subdirs,files in os.walk(directory):\n",
    "\n",
    "        for name in files:\n",
    "            if name.endswith('.png'):\n",
    "                img_path.append(os.path.join(path,name))\n",
    "                img_names.append(name.rsplit('.',-1)[0])\n",
    "    return sorted(img_path),sorted(img_names)\n"
   ]
  },
  {
   "cell_type": "code",
   "execution_count": 7,
   "metadata": {},
   "outputs": [],
   "source": [
    "red_paths,red_names = get_dir('Final_data/full_tubes/journal_data/red/')"
   ]
  },
  {
   "cell_type": "code",
   "execution_count": 8,
   "metadata": {},
   "outputs": [],
   "source": [
    "red_labels = np.zeros((len(red_paths)))"
   ]
  },
  {
   "cell_type": "code",
   "execution_count": 9,
   "metadata": {},
   "outputs": [
    {
     "name": "stdout",
     "output_type": "stream",
     "text": [
      "(4170,)\n"
     ]
    }
   ],
   "source": [
    "print(red_labels.shape)"
   ]
  },
  {
   "cell_type": "code",
   "execution_count": 10,
   "metadata": {},
   "outputs": [],
   "source": [
    "yel_paths,yel_names = get_dir('Final_data/full_tubes/journal_data/yellow/')\n",
    "yel_labels = np.ones((len(yel_paths)))"
   ]
  },
  {
   "cell_type": "code",
   "execution_count": 11,
   "metadata": {},
   "outputs": [
    {
     "name": "stdout",
     "output_type": "stream",
     "text": [
      "[['Final_data/full_tubes/journal_data/red/t_1593636962crop_0.png' '0.0']\n",
      " ['Final_data/full_tubes/journal_data/red/t_1593636962crop_1.png' '0.0']\n",
      " ['Final_data/full_tubes/journal_data/red/t_1593636962crop_2.png' '0.0']\n",
      " ...\n",
      " ['Final_data/full_tubes/journal_data/yellow/t_1596728761crop_7.png'\n",
      "  '1.0']\n",
      " ['Final_data/full_tubes/journal_data/yellow/t_1596728784crop_7.png'\n",
      "  '1.0']\n",
      " ['Final_data/full_tubes/journal_data/yellow/t_1596728830crop_7.png'\n",
      "  '1.0']]\n"
     ]
    }
   ],
   "source": [
    "\n",
    "\n",
    "# t_paths = np.concatenate((red_paths[:99], yel_paths[:99]))\n",
    "# t_labels = np.concatenate((red_labels[:99], yel_labels[:99]))\n",
    "\n",
    "labels = np.concatenate((red_labels, yel_labels))\n",
    "paths = np.concatenate((red_paths, yel_paths))\n",
    "\n",
    "data= np.vstack((paths,labels)).T\n",
    "# t_data= np.vstack((t_paths,t_labels)).T\n",
    "print(data)"
   ]
  },
  {
   "cell_type": "code",
   "execution_count": 12,
   "metadata": {},
   "outputs": [
    {
     "name": "stdout",
     "output_type": "stream",
     "text": [
      "Unique Values :  ['0.0' '1.0']\n",
      "Occurrence Count :  [420  63]\n"
     ]
    }
   ],
   "source": [
    "np.random.seed(0)\n",
    "np.random.shuffle(data)\n",
    "# print(data)\n",
    "\n",
    "split = 0.9 * len(data)\n",
    "\n",
    "train = data[:int(split)]\n",
    "test = data[int(split):]\n",
    "uniqueValues, occurCount = np.unique(test[:,1], return_counts=True)\n",
    " \n",
    "print(\"Unique Values : \" , uniqueValues)\n",
    "print(\"Occurrence Count : \", occurCount)"
   ]
  },
  {
   "cell_type": "code",
   "execution_count": 13,
   "metadata": {},
   "outputs": [
    {
     "name": "stdout",
     "output_type": "stream",
     "text": [
      "483\n"
     ]
    }
   ],
   "source": [
    "print(len(test))"
   ]
  },
  {
   "cell_type": "code",
   "execution_count": 14,
   "metadata": {},
   "outputs": [],
   "source": [
    "def my_datagen(data,batch_size):\n",
    "    \n",
    "    \n",
    "    labels = []\n",
    "    imgs = []\n",
    "    \n",
    "    datagen= ImageDataGenerator(\n",
    "                                brightness_range=[0.7, 1.2],\n",
    "                                fill_mode='nearest',    \n",
    "                                horizontal_flip=True,\n",
    "                                data_format='channels_last',\n",
    "                                width_shift_range=[-20,20],\n",
    "                                height_shift_range=[-20,20]\n",
    "                                \n",
    "                               )\n",
    "    \n",
    "    while True:\n",
    "        for i in range(len(data)):\n",
    "            img = cv2.imread(data[i,0])\n",
    "#             print(data[i,0])\n",
    "            img = cv2.cvtColor(img, cv2.COLOR_BGR2RGB)\n",
    "            img = datagen.random_transform(img)\n",
    "            imgs.append(img)\n",
    "            labels.append(data[i,1])\n",
    "\n",
    "            if ((i+1)%batch_size==0):\n",
    "                yield (np.asarray(imgs),np.asarray(labels))\n",
    "                labels = []\n",
    "                imgs = []\n",
    "\n",
    "\n",
    "        yield (np.asarray(imgs),np.asarray(labels))"
   ]
  },
  {
   "cell_type": "code",
   "execution_count": 15,
   "metadata": {},
   "outputs": [],
   "source": [
    "import keras\n",
    "from keras.utils import plot_model\n",
    "from keras.models import Model,load_model\n",
    "from keras.layers import Input\n",
    "from keras.layers import Dense,GlobalAveragePooling2D\n",
    "from keras.layers import Flatten\n",
    "from keras.layers.convolutional import Conv2D\n",
    "from keras.layers.pooling import MaxPooling2D\n"
   ]
  },
  {
   "cell_type": "code",
   "execution_count": 16,
   "metadata": {},
   "outputs": [
    {
     "name": "stdout",
     "output_type": "stream",
     "text": [
      "Model: \"model_1\"\n",
      "_________________________________________________________________\n",
      "Layer (type)                 Output Shape              Param #   \n",
      "=================================================================\n",
      "input_1 (InputLayer)         (None, 375, 260, 3)       0         \n",
      "_________________________________________________________________\n",
      "conv2d_1 (Conv2D)            (None, 371, 256, 32)      2432      \n",
      "_________________________________________________________________\n",
      "conv2d_2 (Conv2D)            (None, 367, 252, 64)      51264     \n",
      "_________________________________________________________________\n",
      "max_pooling2d_1 (MaxPooling2 (None, 183, 126, 64)      0         \n",
      "_________________________________________________________________\n",
      "conv2d_3 (Conv2D)            (None, 179, 122, 16)      25616     \n",
      "_________________________________________________________________\n",
      "conv2d_4 (Conv2D)            (None, 175, 118, 8)       3208      \n",
      "_________________________________________________________________\n",
      "max_pooling2d_2 (MaxPooling2 (None, 87, 59, 8)         0         \n",
      "_________________________________________________________________\n",
      "flatten_1 (Flatten)          (None, 41064)             0         \n",
      "_________________________________________________________________\n",
      "dense_1 (Dense)              (None, 946)               38847490  \n",
      "_________________________________________________________________\n",
      "dense_2 (Dense)              (None, 200)               189400    \n",
      "_________________________________________________________________\n",
      "dense_3 (Dense)              (None, 100)               20100     \n",
      "_________________________________________________________________\n",
      "dense_4 (Dense)              (None, 1)                 101       \n",
      "=================================================================\n",
      "Total params: 39,139,611\n",
      "Trainable params: 39,139,611\n",
      "Non-trainable params: 0\n",
      "_________________________________________________________________\n",
      "None\n"
     ]
    }
   ],
   "source": [
    "visible = Input(shape=(375,260,3))\n",
    "conv1 = Conv2D(32, kernel_size=5, activation='relu',padding='valid')(visible)\n",
    "conv1_1 = Conv2D(64, kernel_size=5, activation='relu',padding='valid')(conv1)\n",
    "pool1 = MaxPooling2D(pool_size=(2, 2))(conv1_1)\n",
    "conv2 = Conv2D(16, kernel_size=5, activation='relu',padding='valid')(pool1)\n",
    "conv2_2 = Conv2D(8, kernel_size=5, activation='relu',padding='valid')(conv2)\n",
    "pool2 = MaxPooling2D(pool_size=(2, 2))(conv2_2)\n",
    "flat = Flatten()(pool2)\n",
    "hidden1 = Dense(946, activation='relu')(flat)\n",
    "hidden2 = Dense(200, activation='relu')(hidden1)\n",
    "hidden3 = Dense(100, activation='relu')(hidden2)\n",
    "output = Dense(1, activation='sigmoid')(hidden3)\n",
    "model = Model(inputs=visible, outputs=output)\n",
    "# summarize layers\n",
    "print(model.summary())\n",
    "# plot graph\n",
    "# plot_model(model, to_file='convolutional_neural_network.png')\n",
    "model.compile(loss='binary_crossentropy',optimizer='adam',metrics=['accuracy'])"
   ]
  },
  {
   "cell_type": "code",
   "execution_count": 28,
   "metadata": {},
   "outputs": [],
   "source": [
    "## Check if the generator is working fine"
   ]
  },
  {
   "cell_type": "code",
   "execution_count": 17,
   "metadata": {},
   "outputs": [],
   "source": [
    "from keras.callbacks import EarlyStopping,ModelCheckpoint\n",
    "\n",
    "batch_size = 10\n",
    "steps = int(len(train)/batch_size)\n",
    "val_steps = int(len(test)/batch_size)\n",
    "train_gen = my_datagen(train,batch_size=batch_size)\n",
    "val_gen = my_datagen(test,batch_size=batch_size)\n",
    "\n",
    "# simple early stopping\n",
    "es = EarlyStopping(monitor='val_loss', mode='min', verbose=1,patience=5)\n",
    "mc = ModelCheckpoint('journal_iter_mobile_rett_model_{val_accuracy:0.2f}.h5', monitor='val_accuracy',  verbose=1, save_best_only=True, mode='max')"
   ]
  },
  {
   "cell_type": "code",
   "execution_count": 17,
   "metadata": {},
   "outputs": [],
   "source": [
    "# imgs,labels = next(train_gen)\n",
    "# print(labels)"
   ]
  },
  {
   "cell_type": "code",
   "execution_count": 78,
   "metadata": {},
   "outputs": [
    {
     "name": "stdout",
     "output_type": "stream",
     "text": [
      "Epoch 1/100\n",
      "380/380 [==============================] - 1011s 3s/step - loss: 0.1447 - accuracy: 0.9397 - val_loss: 0.4469 - val_accuracy: 0.9714\n",
      "\n",
      "Epoch 00001: val_accuracy improved from -inf to 0.97143, saving model to journal_iter_mobile_rett_model_0.97.h5\n",
      "Epoch 2/100\n",
      "380/380 [==============================] - 1002s 3s/step - loss: 0.1230 - accuracy: 0.9569 - val_loss: 5.9214e-06 - val_accuracy: 0.9569\n",
      "\n",
      "Epoch 00002: val_accuracy did not improve from 0.97143\n",
      "Epoch 3/100\n",
      "380/380 [==============================] - 1027s 3s/step - loss: 0.1007 - accuracy: 0.9653 - val_loss: 0.0107 - val_accuracy: 0.9809\n",
      "\n",
      "Epoch 00003: val_accuracy improved from 0.97143 to 0.98086, saving model to journal_iter_mobile_rett_model_0.98.h5\n",
      "Epoch 4/100\n",
      "380/380 [==============================] - 958s 3s/step - loss: 0.0842 - accuracy: 0.9695 - val_loss: 0.0155 - val_accuracy: 0.9785\n",
      "\n",
      "Epoch 00004: val_accuracy did not improve from 0.98086\n",
      "Epoch 5/100\n",
      "380/380 [==============================] - 894s 2s/step - loss: 0.0794 - accuracy: 0.9737 - val_loss: 0.0024 - val_accuracy: 0.9641\n",
      "\n",
      "Epoch 00005: val_accuracy did not improve from 0.98086\n",
      "Epoch 6/100\n",
      "380/380 [==============================] - 990s 3s/step - loss: 0.0554 - accuracy: 0.9782 - val_loss: 0.2356 - val_accuracy: 0.9665\n",
      "\n",
      "Epoch 00006: val_accuracy did not improve from 0.98086\n",
      "Epoch 7/100\n",
      "380/380 [==============================] - 871s 2s/step - loss: 0.0569 - accuracy: 0.9840 - val_loss: 0.0718 - val_accuracy: 0.9665\n",
      "\n",
      "Epoch 00007: val_accuracy did not improve from 0.98086\n",
      "Epoch 00007: early stopping\n"
     ]
    },
    {
     "data": {
      "text/plain": [
       "<keras.callbacks.callbacks.History at 0x7f6453855bd0>"
      ]
     },
     "execution_count": 78,
     "metadata": {},
     "output_type": "execute_result"
    }
   ],
   "source": [
    "model.fit_generator(train_gen, epochs=100,steps_per_epoch=steps,validation_data=val_gen,validation_steps=val_steps, verbose=1, callbacks=[es,mc])"
   ]
  },
  {
   "cell_type": "code",
   "execution_count": 37,
   "metadata": {},
   "outputs": [],
   "source": [
    "np.set_printoptions(formatter={'float': lambda x: \"{0:0.3f}\".format(x)})"
   ]
  },
  {
   "cell_type": "code",
   "execution_count": 38,
   "metadata": {},
   "outputs": [
    {
     "name": "stdout",
     "output_type": "stream",
     "text": [
      "[False False False ... False False  True]\n"
     ]
    }
   ],
   "source": [
    "batch_size =  len(t_data)\n",
    "test_gen = my_datagen(t_data,batch_size=batch_size)\n",
    "imgs,labels = next(test_gen)\n",
    "prediction = model.predict((imgs))\n",
    "# labels[np.where(labels=='1')]= int(1)\n",
    "labels= '1' <= labels\n",
    "# print(prediction)\n",
    "print(labels)"
   ]
  },
  {
   "cell_type": "code",
   "execution_count": 39,
   "metadata": {},
   "outputs": [],
   "source": [
    "from sklearn.metrics import roc_auc_score,roc_curve, auc\n",
    "fpr, tpr, _ = roc_curve(labels,prediction)\n",
    "roc_auc = auc(fpr, tpr)"
   ]
  },
  {
   "cell_type": "code",
   "execution_count": 40,
   "metadata": {},
   "outputs": [
    {
     "data": {
      "image/png": "[encoded data removed]",
      "text/plain": [
       "<Figure size 432x288 with 1 Axes>"
      ]
     },
     "metadata": {
      "needs_background": "light"
     },
     "output_type": "display_data"
    }
   ],
   "source": [
    "import matplotlib.pyplot as plt\n",
    "plt.title('Receiver Operating Characteristic')\n",
    "plt.plot(fpr, tpr, 'b', label = 'AUC = %0.2f' % roc_auc)\n",
    "plt.legend(loc = 'lower right')\n",
    "plt.plot([0, 1], [0, 1],'r--')\n",
    "plt.xlim([0, 1])\n",
    "plt.ylim([0, 1])\n",
    "plt.ylabel('True Positive Rate')\n",
    "plt.xlabel('False Positive Rate')\n",
    "plt.show()"
   ]
  }
 ],
 "metadata": {
  "kernelspec": {
   "display_name": "Python 3",
   "language": "python",
   "name": "python3"
  },
  "language_info": {
   "codemirror_mode": {
    "name": "ipython",
    "version": 3
   },
   "file_extension": ".py",
   "mimetype": "text/x-python",
   "name": "python",
   "nbconvert_exporter": "python",
   "pygments_lexer": "ipython3",
   "version": "3.7.4"
  }
 },
 "nbformat": 4,
 "nbformat_minor": 4
}
